{
 "cells": [
  {
   "cell_type": "code",
   "id": "initial_id",
   "metadata": {
    "collapsed": true,
    "ExecuteTime": {
     "end_time": "2025-02-02T18:31:34.106760Z",
     "start_time": "2025-02-02T18:31:34.094202Z"
    }
   },
   "source": [
    "from dotenv import load_dotenv\n",
    "from langchain_community.document_loaders import PyPDFLoader\n",
    "from langchain_text_splitters import MarkdownHeaderTextSplitter, CharacterTextSplitter\n",
    "from langchain_openai.embeddings import OpenAIEmbeddings\n",
    "from langchain_community.vectorstores import Chroma\n",
    "\n",
    "import copy\n",
    "\n",
    "load_dotenv()"
   ],
   "outputs": [
    {
     "data": {
      "text/plain": [
       "True"
      ]
     },
     "execution_count": 8,
     "metadata": {},
     "output_type": "execute_result"
    }
   ],
   "execution_count": 8
  },
  {
   "metadata": {
    "ExecuteTime": {
     "end_time": "2025-02-02T18:35:06.734857Z",
     "start_time": "2025-02-02T18:35:06.578375Z"
    }
   },
   "cell_type": "code",
   "source": [
    "loader_docx = PyPDFLoader(\"documentacion-mypes/regimen-laboral-especial-micro-y-pequena-empresa-enero-2019.pdf\")\n",
    "pages_pdf = loader_docx.load()\n",
    "\n",
    "# Haciendo una copia\n",
    "pages_pdf_cut = copy.deepcopy(pages_pdf)\n",
    "\n",
    "# Removing all newline characters\n",
    "for i in pages_pdf_cut:\n",
    "    i.page_content = ' '.join(i.page_content.split())"
   ],
   "id": "c14c020078f00cb3",
   "outputs": [],
   "execution_count": 15
  },
  {
   "metadata": {
    "ExecuteTime": {
     "end_time": "2025-02-02T18:38:13.718547Z",
     "start_time": "2025-02-02T18:38:13.704696Z"
    }
   },
   "cell_type": "code",
   "source": [
    "char_splitter = CharacterTextSplitter(separator=\"\", chunk_size=500, chunk_overlap=0)\n",
    "pages_char_split = char_splitter.split_documents(pages_pdf_cut)"
   ],
   "id": "37d74cc4a0b80078",
   "outputs": [],
   "execution_count": 17
  },
  {
   "metadata": {
    "ExecuteTime": {
     "end_time": "2025-02-02T18:38:19.329775Z",
     "start_time": "2025-02-02T18:38:19.324444Z"
    }
   },
   "cell_type": "code",
   "source": "pages_char_split",
   "id": "c8b3177468ea2f6d",
   "outputs": [
    {
     "data": {
      "text/plain": [
       "[Document(metadata={'source': 'documentacion/regimen-laboral-especial-micro-y-pequena-empresa-enero-2019.pdf', 'page': 0, 'page_label': '1'}, page_content='1 Boletín Informativo Laboral, N° 85, enero 2019. RÉGIMEN LABORAL ESPECIAL DE LA MICRO Y PEQUEÑA EMPRESA Resumen ejecutivo El presente artículo tiene por finalidad b rindar una visión panorámica de l Régimen L aboral Especial de l a Micro y Pequeñ a Empresa , regulado actualmente a través del Decreto Supremo N° 013-2013-PRODUCE.'),\n",
       " Document(metadata={'source': 'documentacion/regimen-laboral-especial-micro-y-pequena-empresa-enero-2019.pdf', 'page': 1, 'page_label': '2'}, page_content='2 I. DEFINICIÓN DE MICRO Y PEQUEÑA EMPRESA De conformidad con el Decreto Supremo N° 013 -2013-PRODUCE, l a Micro y Pequeña empresa (MYPE) es definida como toda unidad económica constituida por una persona natural o jurídica, que tiene por objeto desarrollar actividades de extracción, transformación, producción, comercialización de bienes o prestación de servicios. Para calificar c omo micro o pequeña empresa, a efecto de acogerse al Régimen L aboral Especial para la Micro y Pequeña E mpresa es p'),\n",
       " Document(metadata={'source': 'documentacion/regimen-laboral-especial-micro-y-pequena-empresa-enero-2019.pdf', 'page': 1, 'page_label': '2'}, page_content='reciso ubicarse en alguna de las siguientes categorías empresariales, establecidas en función de sus niveles de ventas anuales: En el mismo sentido, las juntas o asociaciones o agrupaciones de propietarios o inquilinos en régimen de propi edad horizontal o condominio habitacional, así como las asociaciones o agrupaciones de v ecinos, podrán acogerse al régimen laboral de la microempresa respecto de los trabajadores que les prestan servicios en común de vigilancia, limpieza, reparación, mantenimi'),\n",
       " Document(metadata={'source': 'documentacion/regimen-laboral-especial-micro-y-pequena-empresa-enero-2019.pdf', 'page': 1, 'page_label': '2'}, page_content='ento y similares, siempre y cuando no excedan de diez (10) trabajadores. Para tales efectos, se considerará: \\uf0a7 Junta de propie tarios: Constituida por todos los propietarios de las secciones de propiedad exclusiva de las edificaciones en régimen de propiedad horizontal o condominio, de acuerdo a lo establecido en la Ley N° 27157 y el Decreto Supremo N° 035-2006-VIVIENDA. \\uf0a7 Asociación o agrupación de inquilinos: Constituida por los arrendatarios de las edificaciones en régimen de propiedad horizo'),\n",
       " Document(metadata={'source': 'documentacion/regimen-laboral-especial-micro-y-pequena-empresa-enero-2019.pdf', 'page': 1, 'page_label': '2'}, page_content='ntal o condominio. El valor de cada Unidad Impositiva Tributaria (UIT), para el año 2019 es de S/ 4, 200,00. (D.S. N° 298-2018-EF) Micro empresa Pequeña empresa Hasta 150 UIT Volumen de ventas anuales Hasta 1,700 UIT'),\n",
       " Document(metadata={'source': 'documentacion/regimen-laboral-especial-micro-y-pequena-empresa-enero-2019.pdf', 'page': 2, 'page_label': '3'}, page_content='3 \\uf0a7 Asociación o agrupación de vecinos: Constituida por los propietarios o arrendatarios de inmuebles colindantes. II. EXCLUSIONES DEL RÉGIMEN LABORAL ESPECIAL DE LA MICRO Y PEQUEÑA EMPRESA No están comprendidas en el Régimen Laboral Especial de la M icro y Pequeña Empresa, ni pueden acceder a sus beneficios, las empresas que, no obstante cumplir con los requisitos señalados en el punto anterior, conformen un grupo económico que en conjunto no reúnan tales características, tengan vinculación eco'),\n",
       " Document(metadata={'source': 'documentacion/regimen-laboral-especial-micro-y-pequena-empresa-enero-2019.pdf', 'page': 2, 'page_label': '3'}, page_content='nómica 1 con otras empresas o grupos económicos nacionales o extranjeros que no cumplan con dichas características, falseen información o dividan sus unidades empresariales, bajo sanción de multa e inhabilitación de contratar con el Estado por un período no menor de uno (1) año ni mayor de dos (2) años. También se encuentran excluidas de este régimen las unidades económicas que se dediquen al rubro de bares, discotecas, juegos de azar y afines. III. BENEFICIOS LABORALES COMUNES DE LOS TRABAJADOR'),\n",
       " Document(metadata={'source': 'documentacion/regimen-laboral-especial-micro-y-pequena-empresa-enero-2019.pdf', 'page': 2, 'page_label': '3'}, page_content='ES DE LAS MICRO Y PEQUEÑAS EMPRESAS \\uf0d8 Remuneración Los trabajadores del régimen especial tienen derecho a percibir por lo menos la remuneración mínima vital ( actualmente, S/. 930.00), de conformidad con la Constitución y demás normas legales vigentes. \\uf0d8 Jornada de trabajo, horario de trabajo y trabajo en sobretiempo La jornada de trabajo de los trabajadores de las MYPE es de ocho (08) horas diarias o cuarenta y ocho (48) semanales, al igual que el régimen laboral común. Sin embargo, en los cent'),\n",
       " Document(metadata={'source': 'documentacion/regimen-laboral-especial-micro-y-pequena-empresa-enero-2019.pdf', 'page': 2, 'page_label': '3'}, page_content='ros de trabajo cuya jornada laboral se de sarrolle habitualmente en horario nocturno, no se aplicará la sobretasa del 35% de la remuneración vital prevista para el régimen común. \\uf0d8 Descanso semanal obligatorio El descanso semanal obligatorio y el descanso en días feriados se rigen por las normas del régimen laboral común de la actividad privada. \\uf0d8 Descanso vacacional El trabajador de las MYPE que cumpla el récord es tablecido en el artículo 10 del Decreto Legislativo Nº 713, Ley de consolidación'),\n",
       " Document(metadata={'source': 'documentacion/regimen-laboral-especial-micro-y-pequena-empresa-enero-2019.pdf', 'page': 2, 'page_label': '3'}, page_content='de descansos remunerados de los 1 La vinculación quedará configurada cuando se produzca la causal y regirá mientras ésta subsista.'),\n",
       " Document(metadata={'source': 'documentacion/regimen-laboral-especial-micro-y-pequena-empresa-enero-2019.pdf', 'page': 3, 'page_label': '4'}, page_content='4 trabajadores sujetos al régimen laboral de la actividad privada, tendrá derecho como mínimo, a quince (15) días calendario de descanso por cada año completo de servicios. En ambos casos rige lo dispuesto en el Decreto Legislativo Nº 713 en lo que le sea aplicable, asimismo, e l descanso vacacional podrá ser reducido de quince (15) a siete (07) días, con la respectiva compe nsación de ocho días de remuneración. El acuerdo de reducción debe constar por escrito. \\uf0d8 Indemnización por despido injust'),\n",
       " Document(metadata={'source': 'documentacion/regimen-laboral-especial-micro-y-pequena-empresa-enero-2019.pdf', 'page': 3, 'page_label': '4'}, page_content='ificado \\uf0a7 Microempresa: El importe de la indemnización por despido injustificado para el trabajador de la microempresa es equivalente a diez (10) remuneracione s diarias por cada año completo de servicios con un máximo de noventa (90) remuneraciones diarias. Las fracciones de año se abonan por dozavos \\uf0a7 Pequeña empresa: En el caso del trabajador de la pequeña empresa, la indemnización por despido injustificado es equivalente a veinte (20) remuneraciones diarias por cada año completo de servicios'),\n",
       " Document(metadata={'source': 'documentacion/regimen-laboral-especial-micro-y-pequena-empresa-enero-2019.pdf', 'page': 3, 'page_label': '4'}, page_content='con un máximo de ciento veinte (120) remuneraciones diarias. Las fracciones de año se abonan por dozavos. \\uf0d8 Seguridad Social en Salud \\uf0a7 Microempresa: Los conductores y traba jadores de las microempresas deben ser afiliados, como mínimo, al Co mponente Semicontributivo del Sistema Integral del Salud (SIS), el cual cubre determ inadas prestaciones médicas y algunos gastos. \\uf0a7 Pequeña empresa: Los trabajadores de las pequeñas empresas son afiliados regulares obligatorios de EsSalud. \\uf0d8 Sistema de Pe'),\n",
       " Document(metadata={'source': 'documentacion/regimen-laboral-especial-micro-y-pequena-empresa-enero-2019.pdf', 'page': 3, 'page_label': '4'}, page_content='nsiones Se ha creado el Sistema de Pensiones Sociales para los trabajadores de las microempresas, el cual tiene por objeto principal otorgar pensiones con las características similares al de la modalidad de renta vitalicia familiar del SPP. Es importante precisar que este régimen es excluyente del SPP y del SNP, por lo que solo podrán afiliarse a este nuevo sistema los conductores o trabajadores que no se encuentren afiliados a ningún sis tema pensionario o que se encuentren en alguno de los sis'),\n",
       " Document(metadata={'source': 'documentacion/regimen-laboral-especial-micro-y-pequena-empresa-enero-2019.pdf', 'page': 3, 'page_label': '4'}, page_content='temas pensionarios vigentes, esto es, AFP u ONP. Pese a lo expuesto, es preciso indicar que el Sistema de Pensiones Sociales aún no ha sido puesto en funcionamiento ; por lo que , en la práctica, al igual que los'),\n",
       " Document(metadata={'source': 'documentacion/regimen-laboral-especial-micro-y-pequena-empresa-enero-2019.pdf', 'page': 4, 'page_label': '5'}, page_content='5 trabajadores de la pequeña empresa, los trabajadores de la microempresa deben optar por afiliarse al SNP o SPP. IV. BENEFICIOS LABORALES EXCLUSIVOS DE LOS TRABAJADORES DE LA PEQUEÑA EMPRESA \\uf0d8 Compensación por Tiempo de Servicios (CTS) Los tra bajadores de la pequeña empresa tendrán derecho, además, a la compensación por tiempo de servicios, con arreglo a las normas del régimen común, computada a razón de quince (15) remuneraciones diarias por año completo de se rvicios, hasta alcanzar un máxim'),\n",
       " Document(metadata={'source': 'documentacion/regimen-laboral-especial-micro-y-pequena-empresa-enero-2019.pdf', 'page': 4, 'page_label': '5'}, page_content='o de noventa (90) remuneraciones diarias. \\uf0d8 Gratificaciones Los trabajadores de la pequeña empresa tendrán derecho a percibir dos (2) gratificaciones en el año con ocasión de las Fiestas Patrias y la Navidad, siempre que cumplan con lo dispuesto en la normat iva correspondiente, en lo que les sea aplicable. El monto de las gratificaciones es equivalente a media remuneración cada una. \\uf0d8 Seguro Complementario de Trabajo de Riesgo (SCTR) Los trabajadores de la Pequeña E mpresa tienen derecho a un S'),\n",
       " Document(metadata={'source': 'documentacion/regimen-laboral-especial-micro-y-pequena-empresa-enero-2019.pdf', 'page': 4, 'page_label': '5'}, page_content='eguro Complementario de Trabajo de Riesgo a cargo de su empleador, cuando corresponda, de acuerdo a lo dispuesto en la Ley Nº 26790, Ley de Modernización de la Seguridad Social en Salud, modificatorias y normas reglamentarias; y a un seguro de vida a cargo de su empleador , de acuerdo a lo di spuesto en el Decreto Legislativo Nº 688, Ley de Consolidación de Beneficios Sociales, y modificatorias. \\uf0d8 Seguro de Vida Ley Se ha establecido expresamente que los trabajadores de pequeñas empresas tienen'),\n",
       " Document(metadata={'source': 'documentacion/regimen-laboral-especial-micro-y-pequena-empresa-enero-2019.pdf', 'page': 4, 'page_label': '5'}, page_content='derecho al seguro de vida a ca rgo de su empleador, de acuerdo con lo dispuesto en el Decreto Legislativo N° 688, Ley de Consolidación de Beneficios Sociales. En este caso, los trabajadores y conductores de microempresas no tienen derecho a este. \\uf0d8 Utilidades Los trabajadores pertenecie ntes a las pequeñas empresas tienen derecho a participar en las utilidades, de acuerdo con el Decreto Legislativo N° 892 y su Reglamento.'),\n",
       " Document(metadata={'source': 'documentacion/regimen-laboral-especial-micro-y-pequena-empresa-enero-2019.pdf', 'page': 5, 'page_label': '6'}, page_content='6 Cuadro comparativo de Beneficios laborales Beneficios de los trabajadores Régimen general o común Microempresa Pequeña empresa Remuneración Mínima vital Todos los trabajadores del régimen laboral de la actividad privada tienen derecho a percibir una remuneración mínima vital. Jornada máxima de trabajo La jornada máxima de trabajo es de 8 horas diarias o de 48 hora s a la semana como máximo. Si eres menor de edad, podrás trabajar siempre y cuando cuentes con la autorización del Ministerio de Tr'),\n",
       " Document(metadata={'source': 'documentacion/regimen-laboral-especial-micro-y-pequena-empresa-enero-2019.pdf', 'page': 5, 'page_label': '6'}, page_content='abajo y Promoción del Empleo y las labores no afecten tu integridad física, ni psicológica y permitan continuar con tus estudios escolares. Derecho al refrigerio Todo trabajador tiene derecho a 45 minutos de refrigerio como mínimo Descanso semanal obligatorio Los trabajadores tienen derecho como mínimo a 24 horas consecutivas de descanso cada semana, otorgado preferentemente e n día domingo. También tienen derecho a descanso remunerado en los días feriados. Licencia pre- natal y post natal Toda'),\n",
       " Document(metadata={'source': 'documentacion/regimen-laboral-especial-micro-y-pequena-empresa-enero-2019.pdf', 'page': 5, 'page_label': '6'}, page_content='trabajadora gestante tiene derecho a gozar de 49 días de descanso pre -natal y 49 días de descanso postnatal. Asimismo, después tienen derecho a una hora diaria de permiso para darle de lactar a su hijo, la cual se extiende hasta cuando el menor tenga un año. Licencia por paternidad El trabajador tiene derecho a ausentarse del trabajo durante 10 días con ocasión del nacimiento de su hijo. Vacaciones truncas Son vacaciones truncas aquellas que se dan cuando el trabajador ha cesado sin haber cumpl'),\n",
       " Document(metadata={'source': 'documentacion/regimen-laboral-especial-micro-y-pequena-empresa-enero-2019.pdf', 'page': 5, 'page_label': '6'}, page_content='ido con el requisito de un año de servicios y el respectivo récord vacacional para generar derecho a vacaciones. En ese caso se le remunerará com o vacaciones truncas tanto dozavo de la remuneración vacacional como meses efectivos haya laborado. Es preciso mencionar que para que se perciba este beneficio el trabajador debe acreditar por lo menos un mes de servicios a su empleador. Vacaciones El tr abajador tiene derecho a 30 días calendario de descanso vacacional por cada año completo de servici'),\n",
       " Document(metadata={'source': 'documentacion/regimen-laboral-especial-micro-y-pequena-empresa-enero-2019.pdf', 'page': 5, 'page_label': '6'}, page_content='o. Estas pueden reducirse de 30 días El trabajador tiene derecho a 15 días calendario de descanso vacacional por cada año completo de servicio. El trabajador tiene derecho a 15 días calendario de descanso vacacional por cada año completo de servicio.'),\n",
       " Document(metadata={'source': 'documentacion/regimen-laboral-especial-micro-y-pequena-empresa-enero-2019.pdf', 'page': 6, 'page_label': '7'}, page_content='7 Compensación por tiempo de servicios (CTS) Una remuneración mensual, depositadas en dos oportunidades semestrales (mayo y noviembre). No corresponde el pago de dicho beneficio. 15 remuneraciones diarias depositadas en dos oportunidades semestrales (mayo y noviembre). Seguro de salud ESSALUD 9% de la remuneración – lo aporta en su integridad el empleador. Seguro Integral de Salud (SIS) – El empleador deberá realizar un aporte mensual equivalente al 50% del aporte mensual total del régimen semi'),\n",
       " Document(metadata={'source': 'documentacion/regimen-laboral-especial-micro-y-pequena-empresa-enero-2019.pdf', 'page': 6, 'page_label': '7'}, page_content='- contributivo del SIS, el otro 50% será completado por el Estado. ESSALUD 9% de la remuneración – lo aporta en su integridad el empleador. Indemnización por despido arbitrario Una remuneración y media por cada mes dejado de laborar, en caso sea un contrato a plazo determinado, y una remuneración y media por cada año de trabajo en caso sea un contrato indeterminado; en ambos casos con un máximo de 12 remuneraciones. 10 rem uneraciones diarias por cada año completo de servicios con un máximo de n'),\n",
       " Document(metadata={'source': 'documentacion/regimen-laboral-especial-micro-y-pequena-empresa-enero-2019.pdf', 'page': 6, 'page_label': '7'}, page_content='oventa (90) remuneraciones diarias. Las fracciones de año se abonan por dozavos. 20 remuneraciones diarias por cada año completo de servicios con un máximo de ciento veinte (120) remu neraciones diarias. Las fracciones de año se abonan por dozavos.'),\n",
       " Document(metadata={'source': 'documentacion/regimen-laboral-especial-micro-y-pequena-empresa-enero-2019.pdf', 'page': 7, 'page_label': '8'}, page_content='8 V. REGISTRO DE MICRO Y PEQUEÑA EMPRESA - REMYPE A efecto s de acogerse al Régimen Laboral Especial de la Micro y Pequeña Empresa , así como a los demás beneficios (tributa rios, financieros, etc.) establecidos a través del Decreto Supremos N° 013-2013- PRODUCE, es preciso inscribirse en el Registro Nacional de la Micro y Pequeña Empresa (REMYPE), el cual se encuentra disponible a través de la pág ina web del Ministerio de Trabajo2. Para acceder a los beneficios del régimen deberá tener el Cert'),\n",
       " Document(metadata={'source': 'documentacion/regimen-laboral-especial-micro-y-pequena-empresa-enero-2019.pdf', 'page': 7, 'page_label': '8'}, page_content='ificado de Inscripción o de Reinscripción vigente en el Registro de la Micro y Pequeña Empresa. \\uf076 Requisitos para registrarse A efectos de poder efectuar el registro, es necesario cumplir con los siguientes requisitos: a) Registro único de Contribuyente (RUC) y Clave SOL b) Contar con al menos un (1) trabajador en planilla Sin perjuicio de ello, se debe tener en cuenta que la MYPE que solicita su inscripción y recién inicia su actividad económica o no cuenta con trabajadores contratados podrá re'),\n",
       " Document(metadata={'source': 'documentacion/regimen-laboral-especial-micro-y-pequena-empresa-enero-2019.pdf', 'page': 7, 'page_label': '8'}, page_content='gistrarse transitoriamente en el REMYPE, contando con un plazo de quince (15) días calendario, contados a partir del día siguiente de la fecha de regi stro, para contratar y registrar a sus trabajadores en el REMYPE bajo el régimen laboral e special establecido en la Ley o el régimen laboral general o el que corresponda, a efectos de contar con el registro definitivo. Vencido dicho plazo sin presentar la información no procederá el registro definitivo. 2 Puede accede r al registro de la micro y'),\n",
       " Document(metadata={'source': 'documentacion/regimen-laboral-especial-micro-y-pequena-empresa-enero-2019.pdf', 'page': 7, 'page_label': '8'}, page_content='pequeña empresa a través del siguiente enlace: https://www.gob.pe/279-registro-de-la-micro-y-pequena-empresa-remype \\uf0d6 Acreditar que una unidad económica califica como micro o pequeña empresa. \\uf0d6 Autorizar el acogimiento de la micro y pequeña empresa a los beneficios. \\uf0d6 Registrar a las micro y pequeñas empresas y dar publicidad de su condición de tales. Este registro tiene como finalidad:'),\n",
       " Document(metadata={'source': 'documentacion/regimen-laboral-especial-micro-y-pequena-empresa-enero-2019.pdf', 'page': 8, 'page_label': '9'}, page_content='9 V. PÉRDIDA DE LA CALIFICACIÓN DE MICRO Y PEQUEÑA EMPRESA La microempresa que durante dos (2) años calendario consecutivos supere el nivel de ventas establecido en la presente Ley, podrá conservar por un (1) año calendario adicional el mi smo régimen laboral. Luego de este período, la empresa pasará definitivamente al régimen laboral que le corresponda. En el caso de las pequeñas empresas, de superar durante dos (2) años consecutivos el nivel de ventas establecido en la presente Ley, podrán con'),\n",
       " Document(metadata={'source': 'documentacion/regimen-laboral-especial-micro-y-pequena-empresa-enero-2019.pdf', 'page': 8, 'page_label': '9'}, page_content='servar durante tr es (3) años adicionales el mismo régimen laboral. Luego de este período, la empresa pasará definitivamente al régimen laboral que le corresponda. CONCLUSIONES: - Actualmente el régimen laboral de la micro y pequeña e mpresa se encuentra regulado por el Decreto Supremo N° 013 -2013-PRODUCE, el mismo que considera lo volúmenes de venta para definir la micro y pequeña empresa y prevé extensiones y exclusiones. - Los trabajadores sujetos a dicho régimen, poseen beneficios que son d'),\n",
       " Document(metadata={'source': 'documentacion/regimen-laboral-especial-micro-y-pequena-empresa-enero-2019.pdf', 'page': 8, 'page_label': '9'}, page_content='istintos al del régimen general. - A fin de que lo empleadore s puedan inscribirse en este régimen, es necesario que se inscriban en el Registro de la Micro y Pequeña Empresa – REMYPE. BIBLIOGRAFÍA: \\uf0a7 Sistema Nacional de R egistro de la Micro y Pequeña Empresa. Manual de Usuario Versión 1.0. Disponible en http://mintra.gob.pe/remype/guia/guia_usuario.pdf \\uf0a7 Guía de Usuario del Sistema de Liquidaciones de Beneficios Sociales para las Micro Empresas y Régimen Especial. Manual de Usuario Versión 1.0'),\n",
       " Document(metadata={'source': 'documentacion/regimen-laboral-especial-micro-y-pequena-empresa-enero-2019.pdf', 'page': 8, 'page_label': '9'}, page_content='. disponible en: http://liquidmicro.trabajo.gob.pe/si.mypeexterno/manual/manual.pdf \\uf0a7 Sistema Nacional de Registro de la Micro y Pequeña Empresa. M anual de Usuario. Disponible en: http://blog.pucp.edu.pe/blog/agustinacastillo/wp-content/uploads/sites/')]"
      ]
     },
     "execution_count": 19,
     "metadata": {},
     "output_type": "execute_result"
    }
   ],
   "execution_count": 19
  }
 ],
 "metadata": {
  "kernelspec": {
   "display_name": "Python 3",
   "language": "python",
   "name": "python3"
  },
  "language_info": {
   "codemirror_mode": {
    "name": "ipython",
    "version": 2
   },
   "file_extension": ".py",
   "mimetype": "text/x-python",
   "name": "python",
   "nbconvert_exporter": "python",
   "pygments_lexer": "ipython2",
   "version": "2.7.6"
  }
 },
 "nbformat": 4,
 "nbformat_minor": 5
}
